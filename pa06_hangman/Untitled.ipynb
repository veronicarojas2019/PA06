{
 "cells": [
  {
   "cell_type": "code",
   "execution_count": null,
   "metadata": {},
   "outputs": [
    {
     "name": "stdin",
     "output_type": "stream",
     "text": [
      "Enter a letter:  e\n"
     ]
    },
    {
     "name": "stdout",
     "output_type": "stream",
     "text": [
      "The letter is in the word\n",
      "__\n",
      "__\n",
      "__\n",
      "__\n",
      "__\n",
      "e\n"
     ]
    },
    {
     "name": "stdin",
     "output_type": "stream",
     "text": [
      "Enter a letter:  a\n"
     ]
    },
    {
     "name": "stdout",
     "output_type": "stream",
     "text": [
      "The letter is in the word\n",
      "__\n",
      "__\n",
      "a\n",
      "__\n",
      "__\n",
      "e\n"
     ]
    },
    {
     "name": "stdin",
     "output_type": "stream",
     "text": [
      "Enter a letter:  l\n"
     ]
    },
    {
     "name": "stdout",
     "output_type": "stream",
     "text": [
      "The letter is not in the word\n",
      "__\n",
      "__\n",
      "a\n",
      "__\n",
      "__\n",
      "e\n"
     ]
    },
    {
     "name": "stdin",
     "output_type": "stream",
     "text": [
      "Enter a letter:  d\n"
     ]
    },
    {
     "name": "stdout",
     "output_type": "stream",
     "text": [
      "The letter is not in the word\n",
      "__\n",
      "__\n",
      "a\n",
      "__\n",
      "__\n",
      "e\n"
     ]
    },
    {
     "name": "stdin",
     "output_type": "stream",
     "text": [
      "Enter a letter:  y\n"
     ]
    },
    {
     "name": "stdout",
     "output_type": "stream",
     "text": [
      "The letter is not in the word\n",
      "__\n",
      "__\n",
      "a\n",
      "__\n",
      "__\n",
      "e\n"
     ]
    },
    {
     "name": "stdin",
     "output_type": "stream",
     "text": [
      "Enter a letter:  p\n"
     ]
    },
    {
     "name": "stdout",
     "output_type": "stream",
     "text": [
      "The letter is not in the word\n",
      "__\n",
      "__\n",
      "a\n",
      "__\n",
      "__\n",
      "e\n"
     ]
    },
    {
     "name": "stdin",
     "output_type": "stream",
     "text": [
      "Enter a letter:  f\n"
     ]
    },
    {
     "name": "stdout",
     "output_type": "stream",
     "text": [
      "The letter is not in the word\n",
      "__\n",
      "__\n",
      "a\n",
      "__\n",
      "__\n",
      "e\n"
     ]
    },
    {
     "name": "stdin",
     "output_type": "stream",
     "text": [
      "Enter a letter:  a\n"
     ]
    },
    {
     "name": "stdout",
     "output_type": "stream",
     "text": [
      "You already guessed that letter\n",
      "Sorry, you lost!\n"
     ]
    }
   ],
   "source": [
    "\"\"\"\n",
    "   Authors: Claire Rousell, Kayla Romero, Maya Rosenfeld, Helen Lin, Veronica Rojas\n",
    "   hangman_app.py is an app for playing hangman in the terminal\n",
    "   it is also used as a module in the hangman_webapp flask app\n",
    "\"\"\"\n",
    "import random\n",
    "words=\"These are some words that we can change later\".split()\n",
    "\n",
    "def generate_random_word():\n",
    "   # read a list of words from a file and pick a random one to return\n",
    "   return random.choice(words)\n",
    "\n",
    "def play_hangman():\n",
    "    want_to_play = True\n",
    "\n",
    "\n",
    "    while (want_to_play):\n",
    "        guessed_letters = []\n",
    "        correct_letters = []\n",
    "        guesses_left = 6\n",
    "        word = generate_random_word()\n",
    "        letter = input(\"Enter a letter: \")\n",
    "        done = False\n",
    "        while not done:\n",
    "            if letter in guessed_letters:\n",
    "                guesses_left=guesses_left-1\n",
    "                print(\"You already guessed that letter\")\n",
    "            elif letter not in word:\n",
    "                guessed_letters.append(letter)\n",
    "                print(\"The letter is not in the word\")\n",
    "                guesses_left=guesses_left-1\n",
    "            else:\n",
    "                guessed_letters.append(letter)\n",
    "                print(\"The letter is in the word\")\n",
    "            if len(correct_letters)==len(word):\n",
    "                done = True\n",
    "                print(\"Congratulations, you won!\")\n",
    "            elif guesses_left==0:\n",
    "                done = True\n",
    "                print(\"Sorry, you lost!\")\n",
    "            else:\n",
    "                for i in range(len(word)):\n",
    "                    if word[i] in guessed_letters:\n",
    "                            print(word[i])\n",
    "                    else:\n",
    "                         print('__')\n",
    "                letter = input(\"Enter a letter: \")\n",
    "        want_to_play = input(\"Would you like to play another game? [Y]es or [N]o\")\n",
    "\n",
    "\n",
    "\n",
    "if __name__ == '__main__':\n",
    "    play_hangman()"
   ]
  }
 ],
 "metadata": {
  "kernelspec": {
   "display_name": "Python 3",
   "language": "python",
   "name": "python3"
  },
  "language_info": {
   "codemirror_mode": {
    "name": "ipython",
    "version": 3
   },
   "file_extension": ".py",
   "mimetype": "text/x-python",
   "name": "python",
   "nbconvert_exporter": "python",
   "pygments_lexer": "ipython3",
   "version": "3.7.4"
  }
 },
 "nbformat": 4,
 "nbformat_minor": 4
}
