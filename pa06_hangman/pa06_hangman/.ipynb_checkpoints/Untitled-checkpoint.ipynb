{
 "cells": [
  {
   "cell_type": "code",
   "execution_count": 15,
   "metadata": {},
   "outputs": [
    {
     "ename": "SyntaxError",
     "evalue": "invalid syntax (<ipython-input-15-077a29ab9a29>, line 39)",
     "output_type": "error",
     "traceback": [
      "\u001b[1;36m  File \u001b[1;32m\"<ipython-input-15-077a29ab9a29>\"\u001b[1;36m, line \u001b[1;32m39\u001b[0m\n\u001b[1;33m    else:\u001b[0m\n\u001b[1;37m       ^\u001b[0m\n\u001b[1;31mSyntaxError\u001b[0m\u001b[1;31m:\u001b[0m invalid syntax\n"
     ]
    }
   ],
   "source": [
    "\"\"\"\n",
    "  website_demo shows how to use templates to generate HTML\n",
    "  from data selected/generated from user-supplied information\n",
    "\"\"\"\n",
    "\n",
    "from flask import Flask, render_template, request\n",
    "import hangman_app\n",
    "app = Flask(__name__)\n",
    "\n",
    "global state\n",
    "state = {'guesses':[],\n",
    "         'word':\"interesting\",\n",
    "         'word_so_far':\"-----------\",\n",
    "         'done':False}\n",
    "\n",
    "@app.route('/')\n",
    "@app.route('/main')\n",
    "def main():\n",
    "    return render_template('hangman.html')\n",
    "\n",
    "@app.route('/start')\n",
    "def play():\n",
    "    global state\n",
    "    state['word']=hangman_app.generate_random_word()\n",
    "    state['guesses'] = []\n",
    "    return render_template(\"start.html\",state=state)\n",
    "\n",
    "@app.route('/play',methods=['GET','POST'])\n",
    "def hangman():\n",
    "    \"\"\" plays hangman game \"\"\"\n",
    "    global state\n",
    "    if request.method == 'GET':\n",
    "        return play()\n",
    "\n",
    "    elif request.method == 'POST':\n",
    "        letter = request.form['guess']\n",
    "    elif letter in guessed_letters:\n",
    "        print(\"You have already guessed this letter, guess again.\"\n",
    "    else:\n",
    "        if letter in word:\n",
    "            print(\"Good guess, that letter is in the word!\")\n",
    "            if done==True:\n",
    "                print(\"The word is complete, you won!\")\n",
    "        if letter not in word:\n",
    "            print(\"That letter is not in the word. Guess again.\")\n",
    "        state['guesses'] += [letter]\n",
    "        return render_template('play.html',state=state)\n",
    "\n",
    "\n",
    "\n",
    "\n",
    "if __name__ == '__main__':\n",
    "    app.run('0.0.0.0',port=3000)\n"
   ]
  }
 ],
 "metadata": {
  "kernelspec": {
   "display_name": "Python 3",
   "language": "python",
   "name": "python3"
  },
  "language_info": {
   "codemirror_mode": {
    "name": "ipython",
    "version": 3
   },
   "file_extension": ".py",
   "mimetype": "text/x-python",
   "name": "python",
   "nbconvert_exporter": "python",
   "pygments_lexer": "ipython3",
   "version": "3.7.4"
  }
 },
 "nbformat": 4,
 "nbformat_minor": 4
}
